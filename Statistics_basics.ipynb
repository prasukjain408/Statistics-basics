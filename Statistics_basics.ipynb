{
  "nbformat": 4,
  "nbformat_minor": 0,
  "metadata": {
    "colab": {
      "provenance": []
    },
    "kernelspec": {
      "name": "python3",
      "display_name": "Python 3"
    },
    "language_info": {
      "name": "python"
    }
  },
  "cells": [
    {
      "cell_type": "markdown",
      "source": [
        "Question 1: What is the difference between descriptive statistics and inferential statistics? Explain with examples.\n",
        "\n",
        "  - Descriptive Statistics\n",
        "\n",
        " Purpose: To organize, summarize, and present data in a clear and understandable way.\n",
        "\n",
        "Methods: Uses numerical measures and visualizations to describe the features of a dataset.\n",
        "\n",
        "Examples:\n",
        "Calculating the average height of students in a single class to understand the \"typical\" height within that group.\n",
        "Creating a bar chart to show the number of yes/no answers from a survey of 100 people about a specific shopping mall.\n",
        "Using a histogram to show the distribution and spread of test scores for a group of students.\n",
        "  - Inferential Statistics\n",
        "\n",
        "Purpose: To draw conclusions, make predictions, and test hypotheses about a larger population based on a smaller sample of data.\n",
        "\n",
        "Methods: Involves techniques like estimations and hypothesis testing, using data from a sample to generalize to a population.\n",
        "\n",
        " Examples:\n",
        "Using the average test scores from that single classroom sample to make an educated guess or prediction about the average test scores of all students in the entire state.\n",
        "Using the yes/no answers from the mall survey sample to conclude whether a majority of people in the entire city like shopping at that mall.\n",
        "Calculating a confidence interval to estimate the true average age of all students in a university based on the sample from one class.\n",
        "\n",
        "Question 2: What is sampling in statistics? Explain the differences between random and stratified sampling.\n",
        "\n",
        "  - What is Sampling?\n",
        "\n",
        "Sampling is a statistical method for selecting a subset of a population to study. Instead of surveying or observing every single member of a population, which can be time-consuming and costly, a sample is taken. The goal is to use the data from this sample to draw conclusions about the entire population.\n",
        "\n",
        "  - Random Sampling\n",
        "\n",
        "Process: In simple random sampling, every member of the population has an equal and independent chance of being chosen for the sample.\n",
        "\n",
        "Characteristics: It's a straightforward process designed to avoid bias by relying solely on chance for selection.\n",
        "\n",
        "When to Use: Simple random sampling is often suitable for populations that are relatively homogeneous (uniform).\n",
        "\n",
        "  - Stratified Sampling\n",
        "\n",
        "Process: The population is first divided into mutually exclusive groups, or strata, that share a common characteristic, such as age, gender, or location. A random sample is then drawn from each of these strata.\n",
        "\n",
        "Characteristics: Stratification ensures that specific subgroups within the population are represented in the sample, which can lead to more precise and reliable results.\n",
        "\n",
        "When to Use: Stratified sampling is particularly useful when the population is diverse or heterogeneous, and when it's important to ensure that certain subgroups are adequately represented.\n",
        "\n",
        "Question 3: Define mean, median, and mode. Explain why these measures of central\n",
        "tendency are important.\n",
        "\n",
        "  - Mean\n",
        "\n",
        "The mean is the arithmetic average of a dataset, calculated by summing all values and dividing by the total number of values.\n",
        "\n",
        "  - Median\n",
        "\n",
        "The median is the middle value in a dataset when the data are arranged in ascending or descending order. If there is an odd number of data points, the median is the single middle value. If there is an even number of data points, the median is the average of the two middle values.\n",
        "  - Mode\n",
        "\n",
        "The mode is the value that appears most frequently in a dataset. A dataset can have one mode (unimodal), multiple modes (multimodal), or no mode if all values appear with the same frequency.\n",
        "\n",
        "  - Importance of Measures of Central Tendency\n",
        "\n",
        "These measures of central tendency are important because they provide a single, representative value that summarizes the entire dataset. They offer insights into the typical or central value of the data, which is crucial for understanding data patterns, comparing different groups or datasets, and making informed decisions. The choice of which measure to use depends on the nature of the data and the presence of outliers, as each measure has different sensitivities to extreme values.\n",
        "\n",
        "Question 4: Explain skewness and kurtosis. What does a positive skew imply about the data?\n",
        "\n",
        "  - Skewness is a statistical measure of a distribution's asymmetry, indicating whether the data is clustered on one side or if there are outliers. A normal (symmetric) distribution has a skewness of 0. Positive (or right) skew means the distribution's tail extends to the right, with most data points on the left and a higher mean. Negative (or left) skew means the tail extends to the left, with most data points on the right and a lower mean.\n",
        "\n",
        "   - Kurtosis is a statistical measure of a probability distribution's \"tailedness,\" indicating the extent of outliers relative to a normal distribution. It quantifies whether the tails of the distribution are heavier (more outliers) or lighter (fewer outliers). Distributions are classified as leptokurtic (heavy-tailed, high kurtosis), platykurtic (light-tailed, low kurtosis), or mesokurtic (normal tails, mesokurtic).\n",
        "  \n",
        "  \n",
        "  \n",
        "  - What a Positive Skew Implies\n",
        "\n",
        "Lopsidedness: The distribution leans to the left.\n",
        "Data Concentration: Most of the data points are clustered on the lower end of the values.\n",
        "\n",
        "Outliers: The extreme values (outliers) are concentrated on the right side of the distribution.\n",
        "\n",
        "Relationship between Mean, Median, and Mode: In a positively skewed distribution, the mean is typically greater than the median, which is greater than the mode.\n",
        "\n"
      ],
      "metadata": {
        "id": "9iJthhz7UuBz"
      }
    },
    {
      "cell_type": "code",
      "execution_count": 6,
      "metadata": {
        "id": "diLTReqwMqy8",
        "colab": {
          "base_uri": "https://localhost:8080/"
        },
        "outputId": "2bffc0bc-fa0a-4820-a589-6d7778d9d47a"
      },
      "outputs": [
        {
          "output_type": "execute_result",
          "data": {
            "text/plain": [
              "np.float64(19.6)"
            ]
          },
          "metadata": {},
          "execution_count": 6
        }
      ],
      "source": [
        "# Question 5: Implement a Python program to compute the mean, median, and mode of\n",
        "# a given list of numbers.\n",
        "numbers = [12, 15, 12, 18, 19, 12, 20, 22, 19, 19, 24, 24, 24, 26, 28]\n",
        "\n",
        "import numpy as np\n",
        "np.mean(numbers)"
      ]
    },
    {
      "cell_type": "code",
      "source": [
        "np.median(numbers)"
      ],
      "metadata": {
        "colab": {
          "base_uri": "https://localhost:8080/"
        },
        "id": "W6n_S75LXzaY",
        "outputId": "d3edcd5b-a064-4e7f-d52d-8ba11fba9460"
      },
      "execution_count": 7,
      "outputs": [
        {
          "output_type": "execute_result",
          "data": {
            "text/plain": [
              "np.float64(19.0)"
            ]
          },
          "metadata": {},
          "execution_count": 7
        }
      ]
    },
    {
      "cell_type": "code",
      "source": [
        "import statistics\n",
        "statistics.mode(numbers)"
      ],
      "metadata": {
        "colab": {
          "base_uri": "https://localhost:8080/"
        },
        "id": "PTiBBIfjX41V",
        "outputId": "e5ccafc9-8b92-48fd-dda5-6d68c736aaa0"
      },
      "execution_count": 9,
      "outputs": [
        {
          "output_type": "execute_result",
          "data": {
            "text/plain": [
              "12"
            ]
          },
          "metadata": {},
          "execution_count": 9
        }
      ]
    },
    {
      "cell_type": "code",
      "source": [
        "#Question 6: Compute the covariance and correlation coefficient between the following\n",
        "#two datasets provided as lists in Python:\n",
        "\n",
        "list_x = [10, 20, 30, 40, 50]\n",
        "list_y = [15, 25, 35, 45, 60]\n",
        "\n",
        "import numpy as np\n",
        "\n",
        "# Compute the covariance\n",
        "covariance = np.cov(list_x, list_y)[0][1]\n",
        "print(f\"Covariance: {covariance}\")\n",
        "\n",
        "# Compute the correlation coefficient\n",
        "correlation = np.corrcoef(list_x, list_y)[0][1]\n",
        "print(f\"Correlation Coefficient: {correlation}\")"
      ],
      "metadata": {
        "colab": {
          "base_uri": "https://localhost:8080/"
        },
        "id": "231yTGQSYLsK",
        "outputId": "97520cd6-ec61-4076-f483-3970af290636"
      },
      "execution_count": 19,
      "outputs": [
        {
          "output_type": "stream",
          "name": "stdout",
          "text": [
            "Covariance: 275.0\n",
            "Correlation Coefficient: 0.995893206467704\n"
          ]
        }
      ]
    },
    {
      "cell_type": "code",
      "source": [
        "#Question 7: Write a Python script to draw a boxplot for the following numeric list and\n",
        "#identify its outliers. Explain the result:\n",
        "\n",
        "data = [12, 14, 14, 15, 18, 19, 19, 21, 22, 22, 23, 23, 24, 26, 29, 35]\n",
        "import seaborn as sns\n",
        "sns.boxplot(data)\n"
      ],
      "metadata": {
        "colab": {
          "base_uri": "https://localhost:8080/",
          "height": 428
        },
        "id": "OblfLK-paNyj",
        "outputId": "407c3f5d-6997-476a-f49f-68f2eb09a56d"
      },
      "execution_count": 21,
      "outputs": [
        {
          "output_type": "execute_result",
          "data": {
            "text/plain": [
              "<Axes: >"
            ]
          },
          "metadata": {},
          "execution_count": 21
        },
        {
          "output_type": "display_data",
          "data": {
            "text/plain": [
              "<Figure size 640x480 with 1 Axes>"
            ],
            "image/png": "[encoded data removed]"
          },
          "metadata": {}
        }
      ]
    },
    {
      "cell_type": "markdown",
      "source": [
        "Question 8: You are working as a data analyst in an e-commerce company. The\n",
        "marketing team wants to know if there is a relationship between advertising spend and\n",
        "daily sales.\n",
        "\n",
        "● Explain how you would use covariance and correlation to explore this\n",
        "relationship.\n",
        "\n",
        "  - 1. Covariance: This measures the direction of the linear relationship.\n",
        "\n",
        "Positive Covariance: Advertising spend and daily sales tend to move in the same direction (e.g., as one increases, the other increases).\n",
        "\n",
        "Negative Covariance: The variables tend to move in opposite directions (e.g., as ad spend increases, sales decrease, or vice versa).\n",
        "\n",
        "Zero Covariance: Indicates no linear relationship.\n",
        "\n",
        "2. Correlation: This is a scaled version of covariance, providing both the strength and direction of the linear relationship.\n",
        "\n",
        "How it works: The correlation coefficient (r) ranges from -1 to +1.\n",
        "\n",
        "Interpreting the value:\n",
        "+1: Perfect positive linear relationship; as ad spend goes up, sales go up in a perfectly linear way.\n",
        "-1: Perfect negative linear relationship; as ad spend goes up, sales go down perfectly linearly.\n",
        "0: No linear relationship between the variables.\n",
        "Values near 0: Weak linear relationship.\n",
        "Values near 1 or -1: Strong linear relationship.\n"
      ],
      "metadata": {
        "id": "ZLmN3sUQbxlf"
      }
    },
    {
      "cell_type": "code",
      "source": [
        "#● Write Python code to compute the correlation between the two lists:\n",
        "advertising_spend = [200, 250, 300, 400, 500]\n",
        "daily_sales = [2200, 2450, 2750, 3200, 4000]\n",
        "\n",
        "import numpy as np\n",
        "\n",
        "# Compute the correlation coefficient\n",
        "correlation = np.corrcoef(advertising_spend, daily_sales)[0][1]\n",
        "print(f\"Correlation Coefficient: {correlation}\")"
      ],
      "metadata": {
        "colab": {
          "base_uri": "https://localhost:8080/"
        },
        "id": "fO-fT7sYcjh3",
        "outputId": "c7cc5b0c-ea30-4b40-e1ad-0ad33deeda74"
      },
      "execution_count": 26,
      "outputs": [
        {
          "output_type": "stream",
          "name": "stdout",
          "text": [
            "Correlation Coefficient: 0.9935824101653329\n"
          ]
        }
      ]
    },
    {
      "cell_type": "markdown",
      "source": [
        "Question 9: Your team has collected customer satisfaction survey data on a scale of 1-10 and wants to understand its distribution before launching a new product.\n",
        "\n",
        "● Explain which summary statistics and visualizations (e.g. mean, standard\n",
        "deviation, histogram) you’d use.\n",
        "\n",
        "  - To understand the distribution of 1-10 customer satisfaction data, use a bar chart to show the frequency of each score and a histogram to visualize its shape, supplemented by a mean to find the average score, a median for the central tendency, and standard deviation to quantify score spread. A frequency distribution table or a pie chart can also provide a quick overview of the score breakdown.\n",
        "\n",
        " 1. Start with a bar chart or frequency table to get a quick visual or numerical breakdown of how many customers gave each rating.\n",
        "2. Look at the mean and median to see the general sentiment. Are customers generally satisfied, or is the average score in the middle?\n",
        "3. Check the standard deviation to understand the consistency of the scores. Is everyone mostly in agreement, or is there a lot of variation?\n",
        "4. Use a histogram to visualize the overall shape of the distribution. For example, is it a normal distribution, or is it skewed towards higher scores (indicating high satisfaction) or lower scores (indicating dissatisfaction).\n",
        "\n",
        "\n",
        "\n",
        "\n",
        "\n"
      ],
      "metadata": {
        "id": "jaF3dSk2eYdd"
      }
    },
    {
      "cell_type": "code",
      "source": [
        "#● Write Python code to create a histogram using Matplotlib for the survey data:\n",
        "#survey_scores = [7, 8, 5, 9, 6, 7, 8, 9, 10, 4, 7, 6, 9, 8, 7]\n",
        "import matplotlib.pyplot as plt\n",
        "\n",
        "survey_scores = [7, 8, 5, 9, 6, 7, 8, 9, 10, 4, 7, 6, 9, 8, 7]\n",
        "\n",
        "# Create the histogram\n",
        "plt.hist(survey_scores, bins=len(set(survey_scores)), edgecolor='black')\n",
        "\n",
        "# Add labels and title\n",
        "plt.xlabel(\"Survey Score\")\n",
        "plt.ylabel(\"Frequency\")\n",
        "plt.title(\"Distribution of Survey Scores\")\n",
        "\n",
        "# Display the plot\n",
        "plt.show()"
      ],
      "metadata": {
        "colab": {
          "base_uri": "https://localhost:8080/",
          "height": 472
        },
        "id": "84xTqlX1fHJC",
        "outputId": "3fef2e1c-1c8c-449b-86d1-d1a46731705f"
      },
      "execution_count": 27,
      "outputs": [
        {
          "output_type": "display_data",
          "data": {
            "text/plain": [
              "<Figure size 640x480 with 1 Axes>"
            ],
            "image/png": "[encoded data removed]"
          },
          "metadata": {}
        }
      ]
    },
    {
      "cell_type": "code",
      "source": [],
      "metadata": {
        "id": "gwuT1om-bY7k"
      },
      "execution_count": null,
      "outputs": []
    }
  ]
}